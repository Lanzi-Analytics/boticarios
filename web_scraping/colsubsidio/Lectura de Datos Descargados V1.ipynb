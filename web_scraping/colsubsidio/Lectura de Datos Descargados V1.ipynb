{
 "cells": [
  {
   "cell_type": "code",
   "execution_count": 28,
   "id": "8bfc23de-4fd8-4cf5-9b4b-73063db34fcb",
   "metadata": {},
   "outputs": [],
   "source": [
    "import os\n",
    "os.chdir(r'C:\\Users\\Fsalinas\\Documents\\GitHub\\boticarios')"
   ]
  },
  {
   "cell_type": "code",
   "execution_count": 29,
   "id": "a47875c4-0149-49ed-a8df-c479ee9fe9bb",
   "metadata": {},
   "outputs": [],
   "source": [
    "import pandas as pd\n",
    "import glob\n",
    "import warnings\n",
    "\n",
    "warnings.filterwarnings('ignore')"
   ]
  },
  {
   "cell_type": "code",
   "execution_count": 30,
   "id": "a1711949-4697-45af-8e6e-cdc1c6d54b1c",
   "metadata": {},
   "outputs": [
    {
     "name": "stdout",
     "output_type": "stream",
     "text": [
      "Número de archivos listados: 919\n"
     ]
    },
    {
     "data": {
      "text/plain": [
       "['./web_scraping/data/json/20210613\\\\A70_ALCOHOL_ANTISEPTICO_70_SOLUCIÓN.json',\n",
       " './web_scraping/data/json/20210613\\\\ABRILAR_07_G100_ML_JARABE.json',\n",
       " './web_scraping/data/json/20210613\\\\ABRILAR_JARABE.json',\n",
       " './web_scraping/data/json/20210613\\\\ACAR_KLEAN_AEROSOL.json',\n",
       " './web_scraping/data/json/20210613\\\\ACEITE_BESABLE_EXTASIS_DE_CHOCOLATE_FLAVIA_DOS_SANTOS.json',\n",
       " './web_scraping/data/json/20210613\\\\ACEITE_DE_COCO_ORGANICO_3000_MG_SOFTGELS.json',\n",
       " './web_scraping/data/json/20210613\\\\ACEITE_DE_RICINO.json',\n",
       " './web_scraping/data/json/20210613\\\\ACEITE_GOTAS_DE_PLACER_FLAVIA_DOS_SANTOS.json',\n",
       " './web_scraping/data/json/20210613\\\\ACEITE_MINERAL.json',\n",
       " './web_scraping/data/json/20210613\\\\ACEITE_RICINO.json']"
      ]
     },
     "execution_count": 30,
     "metadata": {},
     "output_type": "execute_result"
    }
   ],
   "source": [
    "url_json = './web_scraping/data/json/20210613/*.json'\n",
    "archivos = glob.glob(url_json)\n",
    "print(f'Número de archivos listados: {len(archivos)}')\n",
    "archivos[:10]"
   ]
  },
  {
   "cell_type": "code",
   "execution_count": 31,
   "id": "f8db394b-506a-4e2d-b1b8-2d9e60821161",
   "metadata": {},
   "outputs": [
    {
     "name": "stdout",
     "output_type": "stream",
     "text": [
      "<class 'pandas.core.frame.DataFrame'>\n",
      "Int64Index: 919 entries, 0 to 0\n",
      "Data columns (total 9 columns):\n",
      " #   Column               Non-Null Count  Dtype \n",
      "---  ------               --------------  ----- \n",
      " 0   url_producto         919 non-null    object\n",
      " 1   fecha_hora_scraping  919 non-null    object\n",
      " 2   breadcumb            919 non-null    object\n",
      " 3   titulo               919 non-null    object\n",
      " 4   nombre_imagen        919 non-null    object\n",
      " 5   presentacion         919 non-null    object\n",
      " 6   precio               919 non-null    object\n",
      " 7   descripcion          919 non-null    object\n",
      " 8   atributos            919 non-null    object\n",
      "dtypes: object(9)\n",
      "memory usage: 71.8+ KB\n"
     ]
    },
    {
     "data": {
      "text/html": [
       "<div>\n",
       "<style scoped>\n",
       "    .dataframe tbody tr th:only-of-type {\n",
       "        vertical-align: middle;\n",
       "    }\n",
       "\n",
       "    .dataframe tbody tr th {\n",
       "        vertical-align: top;\n",
       "    }\n",
       "\n",
       "    .dataframe thead th {\n",
       "        text-align: right;\n",
       "    }\n",
       "</style>\n",
       "<table border=\"1\" class=\"dataframe\">\n",
       "  <thead>\n",
       "    <tr style=\"text-align: right;\">\n",
       "      <th></th>\n",
       "      <th>url_producto</th>\n",
       "      <th>fecha_hora_scraping</th>\n",
       "      <th>breadcumb</th>\n",
       "      <th>titulo</th>\n",
       "      <th>nombre_imagen</th>\n",
       "      <th>presentacion</th>\n",
       "      <th>precio</th>\n",
       "      <th>descripcion</th>\n",
       "      <th>atributos</th>\n",
       "    </tr>\n",
       "  </thead>\n",
       "  <tbody>\n",
       "    <tr>\n",
       "      <th>0</th>\n",
       "      <td>https://www.drogueriascolsubsidio.com/a70-alco...</td>\n",
       "      <td>2021-06-13 19:13:18</td>\n",
       "      <td>colsubsidio|medicamentos|venta libre|botiquin ...</td>\n",
       "      <td>a70 alcohol antiseptico 70% solución</td>\n",
       "      <td>./web_scraping/data/img/a70_alcohol_antiseptic...</td>\n",
       "      <td>BOTELLA X 250 ML</td>\n",
       "      <td>{'bestPrice': '', 'precioPorSku js-PUM': 'Mili...</td>\n",
       "      <td>este producto es un medicamento. no exceder su...</td>\n",
       "      <td>[[Presentación, BOTELLA X 250 ML], [Concentrac...</td>\n",
       "    </tr>\n",
       "    <tr>\n",
       "      <th>0</th>\n",
       "      <td>https://www.drogueriascolsubsidio.com/abrilar-...</td>\n",
       "      <td>2021-06-13 18:03:48</td>\n",
       "      <td>colsubsidio|medicamentos|medicina alternativa|...</td>\n",
       "      <td>ABRILAR 0.7 G/100 ML JARABE</td>\n",
       "      <td>./web_scraping/data/img/ABRILAR_07_G100_ML_JAR...</td>\n",
       "      <td>FRASCO X 100 ML</td>\n",
       "      <td>{'PrevPrice': 'Antes:$29.000', 'bestPrice': '$...</td>\n",
       "      <td>es un producto fitotérapeutico.  no exceder su...</td>\n",
       "      <td>[[Presentación, FRASCO X 100 ML], [Concentraci...</td>\n",
       "    </tr>\n",
       "    <tr>\n",
       "      <th>0</th>\n",
       "      <td>https://www.drogueriascolsubsidio.com/abrilar-...</td>\n",
       "      <td>2021-06-13 19:29:51</td>\n",
       "      <td>colsubsidio|medicamentos|medicina alternativa|...</td>\n",
       "      <td>ABRILAR JARABE</td>\n",
       "      <td>./web_scraping/data/img/ABRILAR_JARABE.jpg</td>\n",
       "      <td>FRASCO X 200 ML</td>\n",
       "      <td>{'PrevPrice': 'Antes:$43.900', 'bestPrice': '$...</td>\n",
       "      <td>es un producto fitotérapeutico.  no exceder su...</td>\n",
       "      <td>[[Presentación, FRASCO X 200 ML], [Concentraci...</td>\n",
       "    </tr>\n",
       "  </tbody>\n",
       "</table>\n",
       "</div>"
      ],
      "text/plain": [
       "                                        url_producto  fecha_hora_scraping  \\\n",
       "0  https://www.drogueriascolsubsidio.com/a70-alco...  2021-06-13 19:13:18   \n",
       "0  https://www.drogueriascolsubsidio.com/abrilar-...  2021-06-13 18:03:48   \n",
       "0  https://www.drogueriascolsubsidio.com/abrilar-...  2021-06-13 19:29:51   \n",
       "\n",
       "                                           breadcumb  \\\n",
       "0  colsubsidio|medicamentos|venta libre|botiquin ...   \n",
       "0  colsubsidio|medicamentos|medicina alternativa|...   \n",
       "0  colsubsidio|medicamentos|medicina alternativa|...   \n",
       "\n",
       "                                 titulo  \\\n",
       "0  a70 alcohol antiseptico 70% solución   \n",
       "0           ABRILAR 0.7 G/100 ML JARABE   \n",
       "0                        ABRILAR JARABE   \n",
       "\n",
       "                                       nombre_imagen      presentacion  \\\n",
       "0  ./web_scraping/data/img/a70_alcohol_antiseptic...  BOTELLA X 250 ML   \n",
       "0  ./web_scraping/data/img/ABRILAR_07_G100_ML_JAR...   FRASCO X 100 ML   \n",
       "0         ./web_scraping/data/img/ABRILAR_JARABE.jpg   FRASCO X 200 ML   \n",
       "\n",
       "                                              precio  \\\n",
       "0  {'bestPrice': '', 'precioPorSku js-PUM': 'Mili...   \n",
       "0  {'PrevPrice': 'Antes:$29.000', 'bestPrice': '$...   \n",
       "0  {'PrevPrice': 'Antes:$43.900', 'bestPrice': '$...   \n",
       "\n",
       "                                         descripcion  \\\n",
       "0  este producto es un medicamento. no exceder su...   \n",
       "0  es un producto fitotérapeutico.  no exceder su...   \n",
       "0  es un producto fitotérapeutico.  no exceder su...   \n",
       "\n",
       "                                           atributos  \n",
       "0  [[Presentación, BOTELLA X 250 ML], [Concentrac...  \n",
       "0  [[Presentación, FRASCO X 100 ML], [Concentraci...  \n",
       "0  [[Presentación, FRASCO X 200 ML], [Concentraci...  "
      ]
     },
     "execution_count": 31,
     "metadata": {},
     "output_type": "execute_result"
    }
   ],
   "source": [
    "df = pd.concat([pd.read_json(path_or_buf = archivo, orient='index').T for archivo in archivos], axis=0)\n",
    "df.info()\n",
    "df.head(3)"
   ]
  },
  {
   "cell_type": "code",
   "execution_count": null,
   "id": "08153f05-a311-466b-8008-e443733e470f",
   "metadata": {},
   "outputs": [],
   "source": [
    "df"
   ]
  }
 ],
 "metadata": {
  "kernelspec": {
   "display_name": "Python 3",
   "language": "python",
   "name": "python3"
  },
  "language_info": {
   "codemirror_mode": {
    "name": "ipython",
    "version": 3
   },
   "file_extension": ".py",
   "mimetype": "text/x-python",
   "name": "python",
   "nbconvert_exporter": "python",
   "pygments_lexer": "ipython3",
   "version": "3.9.1"
  }
 },
 "nbformat": 4,
 "nbformat_minor": 5
}
