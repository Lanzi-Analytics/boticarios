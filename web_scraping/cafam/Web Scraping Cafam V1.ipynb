{
 "cells": [
  {
   "cell_type": "markdown",
   "id": "be3e6bfd-d1dc-4d6a-985d-3ec77aeda954",
   "metadata": {},
   "source": [
    "# Web Scraping www.drogueriascafam.com.co"
   ]
  },
  {
   "cell_type": "code",
   "execution_count": 153,
   "id": "5a5dfba2-8700-4610-9ed1-4d8dabf35207",
   "metadata": {},
   "outputs": [],
   "source": [
    "import time\n",
    "import os\n",
    "os.chdir(r'C:\\Users\\Fsalinas\\Documents\\GitHub\\boticarios')\n",
    "time.sleep(2)\n",
    "os.chdir('./paquetes')\n",
    "from connpostgres import conn2\n",
    "from runSQL import RunDML, RunDDL\n",
    "time.sleep(2)\n",
    "os.chdir(r'C:\\Users\\Fsalinas\\Documents\\GitHub\\boticarios')"
   ]
  },
  {
   "cell_type": "code",
   "execution_count": 154,
   "id": "fa992992-aafa-4cb6-bf04-ed4c1f965433",
   "metadata": {},
   "outputs": [],
   "source": [
    "from bs4 import BeautifulSoup\n",
    "from selenium.webdriver import Chrome\n",
    "from selenium.webdriver.chrome.options import Options\n",
    "from selenium.webdriver.common.keys import Keys\n",
    "import urllib.request\n",
    "from contextlib import closing\n",
    "from datetime import datetime as dt\n",
    "import pandas as pd\n",
    "import json\n",
    "import random"
   ]
  },
  {
   "cell_type": "markdown",
   "id": "0b6ef0a1-82d9-4b20-b6df-9c122d72873e",
   "metadata": {},
   "source": [
    "_________\n",
    "### Web Crawler Categorias\n",
    "Extraé urls de categorias que contienen las url de los productos para posteriormente extraer información de producto."
   ]
  },
  {
   "cell_type": "code",
   "execution_count": 144,
   "id": "7f60729a-b8c1-437c-a49c-5ca509cfc86c",
   "metadata": {},
   "outputs": [],
   "source": [
    "# Define rutas a urls y archivos\n",
    "chromedriver = './web_scraping/chromedriver/chromedriver.exe'\n",
    "url_principal = 'https://www.drogueriascafam.com.co'\n",
    "\n",
    "# Define si el navegador estará visible durante el proceso\n",
    "hide_browser = False\n",
    "\n",
    "# Aplica opciones al navegador para evitar cargar recursos innecesarios\n",
    "options = Options()\n",
    "options.add_argument('--ignore-certificate-errors')\n",
    "if hide_browser: options.add_argument('--headless')\n",
    "options.add_argument('--disable-dev-shm-usage')\n",
    "options.add_experimental_option('prefs',{'profile.managed_default_content_setings.images':2})"
   ]
  },
  {
   "cell_type": "code",
   "execution_count": 145,
   "id": "d05a3f2b-1603-40db-975e-4991e7dd0c2c",
   "metadata": {},
   "outputs": [
    {
     "name": "stdout",
     "output_type": "stream",
     "text": [
      "Número de urls de categorias: 44\n"
     ]
    }
   ],
   "source": [
    "with closing(Chrome(executable_path = chromedriver, options=options)) as navegador:\n",
    "    navegador.get(url_principal)\n",
    "    \n",
    "    menu = BeautifulSoup(\n",
    "        navegador.page_source,\n",
    "        'html.parser'\n",
    "    ).find_all('div', {'class': 'iqitmegamenu-wrapper col-xs-12 cbp-hor-width-1 clearfix'})[0].find_all('li', {'class': 'cbp-hrmenu-tab'})\n",
    "    \n",
    "    cat_urls = [x.get_attribute_list('href')[0] for x in menu[0].find_all('a') if len(x.get_attribute_list('href')[0].split('/'))==4]\n",
    "\n",
    "    # Guarda la lista de URLs en un archivo csv\n",
    "    with open('./web_scraping/data/cat_urls_cafam.csv', 'w+') as f:\n",
    "        f.write('\\n'.join(cat_urls))\n",
    "\n",
    "    print(f'Número de urls de categorias: {len(cat_urls)}')\n",
    "    cat_urls[:10]"
   ]
  },
  {
   "cell_type": "markdown",
   "id": "2505c11d-d65f-4b5a-b09a-31e75a04dd2d",
   "metadata": {},
   "source": [
    "_________\n",
    "### Web Crawler Productos\n",
    "Extraé urls de productos a partir de las URLs de categorias del archvio csv."
   ]
  },
  {
   "cell_type": "code",
   "execution_count": 155,
   "id": "6b0ff323-dd3f-48db-9334-eccfba57a442",
   "metadata": {},
   "outputs": [],
   "source": [
    "# Define rutas a urls y archivos\n",
    "chromedriver = './web_scraping/chromedriver/chromedriver.exe'\n",
    "url_principal = 'https://www.drogueriascafam.com.co'\n",
    "\n",
    "# Define si el navegador estará visible durante el proceso\n",
    "hide_browser = False\n",
    "\n",
    "# Aplica opciones al navegador para evitar cargar recursos innecesarios\n",
    "options = Options()\n",
    "options.add_argument('--ignore-certificate-errors')\n",
    "if hide_browser: options.add_argument('--headless')\n",
    "options.add_argument('--disable-dev-shm-usage')\n",
    "options.add_experimental_option('prefs',{'profile.managed_default_content_setings.images':2})\n",
    "\n",
    "# Leer el archivo con las url de categorias\n",
    "with open('./web_scraping/data/cat_urls_cafam.csv', 'r') as f:\n",
    "    cat_urls = f.read()\n",
    "cat_urls = cat_urls.split('\\n')"
   ]
  },
  {
   "cell_type": "code",
   "execution_count": 160,
   "id": "5d53687e-42e5-4fc8-a9f8-6f78be5259a5",
   "metadata": {},
   "outputs": [],
   "source": [
    "def carga_producto_postgres(fila):\n",
    "    db = conn2('fsalinas', False)\n",
    "    sql = f'''\n",
    "    INSERT INTO web_scraping.drog_cafam (url_producto, fecha_scraping, hora_scraping, titulo, marca_producto, precio_tachado, precio_original)\n",
    "    SELECT *\n",
    "    FROM (values{fila}) as s(url_producto, fecha_scraping, hora_scraping, titulo, marca_producto, precio_tachado, precio_original)\n",
    "    '''\n",
    "    print(str(RunDML(sql, db)[0])[:2], end='\\r')\n",
    "    db.close()"
   ]
  },
  {
   "cell_type": "code",
   "execution_count": 157,
   "id": "59108127-56c4-47c4-ba38-62ccc168369c",
   "metadata": {},
   "outputs": [],
   "source": [
    "def obtiene_productos(prod):\n",
    "\n",
    "    fecha_scraping, hora_scraping = dt.now().strftime('%Y-%m-%d'), dt.now().strftime('%H:%M:%S')\n",
    "    cols = ['url_producto', 'fecha_scraping', 'hora_scraping', 'titulo', 'marca_producto', 'precio_tachado', 'precio_original']\n",
    "    \n",
    "    try:\n",
    "        marca_producto = prod.find('span',{'class':'desc-grid'}).text.strip()\n",
    "    except:\n",
    "        marca_producto = 'No conseguida'\n",
    "\n",
    "    try:\n",
    "        titulo = prod.find('span',{'class':'grid-name'}).text.strip()\n",
    "    except:\n",
    "        titulo = 'No conseguida'\n",
    "\n",
    "    try:\n",
    "        url_producto = prod.find('a').get_attribute_list('href')[0]\n",
    "    except:\n",
    "        url_producto = 'No conseguida'\n",
    "\n",
    "    try:\n",
    "        precio_tachado = int(prod.find('span',{'class':'old-price product-price'}).text.strip().replace('$ ','').replace(',',''))\n",
    "    except:\n",
    "        precio_tachado = 0\n",
    "\n",
    "    try:\n",
    "        precio_original = int(prod.find('span',{'class':'price product-price'}).text.strip().replace('$ ','').replace(',',''))\n",
    "    except:\n",
    "        precio_original = 0\n",
    "\n",
    "    df_productos = pd.DataFrame.from_dict(data = {\n",
    "        'url_producto': url_producto,\n",
    "        'fecha_scraping': fecha_scraping,\n",
    "        'hora_scraping': hora_scraping,\n",
    "        'titulo': titulo,\n",
    "        'marca_producto': marca_producto,\n",
    "        'precio_tachado': precio_tachado,\n",
    "        'precio_original': precio_original\n",
    "    }, orient = 'index').T\n",
    "    \n",
    "    carga_producto_postgres(tuple(df_productos.iloc[0,:]))\n",
    "    \n",
    "    return df_productos"
   ]
  },
  {
   "cell_type": "code",
   "execution_count": 158,
   "id": "c92fa31b-6768-498a-9cfd-fe9ee7684de3",
   "metadata": {},
   "outputs": [],
   "source": [
    "def cambia_pagina(navegador):\n",
    "    time.sleep(1)\n",
    "    try:\n",
    "        paginacion = navegador.find_elements_by_id('pagination')[0]\n",
    "        paginacion.find_element_by_class_name('pagination_next').click()\n",
    "        return True\n",
    "    except:\n",
    "        return False"
   ]
  },
  {
   "cell_type": "code",
   "execution_count": 159,
   "id": "a0ca0c2b-5d7f-496b-bffc-64d0c74f3542",
   "metadata": {},
   "outputs": [],
   "source": [
    "def procesa_url_cat(navegador):\n",
    "    ldfs = []\n",
    "    while True:\n",
    "        last_url = navegador.current_url\n",
    "\n",
    "        lista_productos = BeautifulSoup(navegador.page_source, 'html.parser').find('div',{'class':'list-wrapper'}).find_all('li')\n",
    "\n",
    "        lista_df_productos = []\n",
    "        for prod in lista_productos:\n",
    "            lista_df_productos.append(obtiene_productos(prod))\n",
    "\n",
    "        ldfs.append(pd.concat(lista_df_productos, ignore_index=True))\n",
    "        \n",
    "        while True:\n",
    "            if cambia_pagina(navegador)==False: break\n",
    "        if last_url == navegador.current_url:\n",
    "            break\n",
    "    df = pd.concat(ldfs, ignore_index=True).drop_duplicates(subset='url_producto').drop_duplicates(subset='url_producto')\n",
    "    return df"
   ]
  },
  {
   "cell_type": "code",
   "execution_count": null,
   "id": "3225cc8f-cd9e-4193-8ea7-23bb658565c4",
   "metadata": {},
   "outputs": [
    {
     "name": "stdout",
     "output_type": "stream",
     "text": [
      "17:23:50: Procesando https://www.drogueriascafam.com.co/5--medicamentos\n",
      "19:03:55: Procesando https://www.drogueriascafam.com.co/7-no-formulados\n",
      "KO\r"
     ]
    }
   ],
   "source": [
    "with closing(Chrome(executable_path = chromedriver, options=options)) as navegador:\n",
    "    for url in cat_urls:\n",
    "        print(f'{dt.now().strftime(\"%H:%M:%S\")}: Procesando {url}')\n",
    "        navegador.get(url)\n",
    "        df = procesa_url_cat(navegador)"
   ]
  },
  {
   "cell_type": "code",
   "execution_count": null,
   "id": "4b25873f-f793-4946-ad55-2d9efbadb89c",
   "metadata": {},
   "outputs": [],
   "source": []
  },
  {
   "cell_type": "code",
   "execution_count": null,
   "id": "c5abd9e3-8565-49a7-91f1-a4c3f8ec7737",
   "metadata": {},
   "outputs": [],
   "source": []
  },
  {
   "cell_type": "code",
   "execution_count": null,
   "id": "6a90af83-1644-4935-b441-002c478e517f",
   "metadata": {},
   "outputs": [],
   "source": []
  },
  {
   "cell_type": "code",
   "execution_count": null,
   "id": "dd18520f-e263-4c40-906a-2f6d6d258bf0",
   "metadata": {},
   "outputs": [],
   "source": []
  },
  {
   "cell_type": "code",
   "execution_count": null,
   "id": "f62e5149-2ce5-4c81-9b81-d36d672fc6ff",
   "metadata": {},
   "outputs": [],
   "source": []
  },
  {
   "cell_type": "code",
   "execution_count": null,
   "id": "d253fa1c-2b7b-473f-b6ec-cd93e6d94697",
   "metadata": {},
   "outputs": [],
   "source": []
  },
  {
   "cell_type": "code",
   "execution_count": null,
   "id": "e45abf9e-a445-4570-9245-c59e4a05bfb6",
   "metadata": {},
   "outputs": [],
   "source": []
  },
  {
   "cell_type": "code",
   "execution_count": null,
   "id": "bddd9305-8cfd-4b7d-80c3-a6803110baaf",
   "metadata": {},
   "outputs": [],
   "source": []
  },
  {
   "cell_type": "code",
   "execution_count": null,
   "id": "46201f3f-63e6-4daf-9601-b732516daf5f",
   "metadata": {},
   "outputs": [],
   "source": []
  },
  {
   "cell_type": "code",
   "execution_count": null,
   "id": "deec15f4-32cb-4bc7-b164-10119c778eb3",
   "metadata": {},
   "outputs": [],
   "source": []
  }
 ],
 "metadata": {
  "kernelspec": {
   "display_name": "Python 3",
   "language": "python",
   "name": "python3"
  },
  "language_info": {
   "codemirror_mode": {
    "name": "ipython",
    "version": 3
   },
   "file_extension": ".py",
   "mimetype": "text/x-python",
   "name": "python",
   "nbconvert_exporter": "python",
   "pygments_lexer": "ipython3",
   "version": "3.9.1"
  }
 },
 "nbformat": 4,
 "nbformat_minor": 5
}
